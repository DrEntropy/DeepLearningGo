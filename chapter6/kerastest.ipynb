{
 "cells": [
  {
   "cell_type": "code",
   "execution_count": 1,
   "metadata": {},
   "outputs": [
    {
     "name": "stderr",
     "output_type": "stream",
     "text": [
      "Using TensorFlow backend.\n"
     ]
    }
   ],
   "source": [
    "import keras\n",
    "from keras.datasets import mnist\n",
    "from keras.models import Sequential\n",
    "from keras.layers import Dense"
   ]
  },
  {
   "cell_type": "code",
   "execution_count": 3,
   "metadata": {},
   "outputs": [
    {
     "name": "stdout",
     "output_type": "stream",
     "text": [
      "Model: \"sequential_1\"\n",
      "_________________________________________________________________\n",
      "Layer (type)                 Output Shape              Param #   \n",
      "=================================================================\n",
      "dense_1 (Dense)              (None, 392)               307720    \n",
      "_________________________________________________________________\n",
      "dense_2 (Dense)              (None, 196)               77028     \n",
      "_________________________________________________________________\n",
      "dense_3 (Dense)              (None, 10)                1970      \n",
      "=================================================================\n",
      "Total params: 386,718\n",
      "Trainable params: 386,718\n",
      "Non-trainable params: 0\n",
      "_________________________________________________________________\n"
     ]
    },
    {
     "name": "stderr",
     "output_type": "stream",
     "text": [
      "2022-01-25 14:32:50.317452: I tensorflow/core/platform/cpu_feature_guard.cc:145] This TensorFlow binary is optimized with Intel(R) MKL-DNN to use the following CPU instructions in performance critical operations:  SSE4.1 SSE4.2 AVX AVX2 FMA\n",
      "To enable them in non-MKL-DNN operations, rebuild TensorFlow with the appropriate compiler flags.\n",
      "2022-01-25 14:32:50.320260: I tensorflow/core/common_runtime/process_util.cc:115] Creating new thread pool with default inter op setting: 16. Tune using inter_op_parallelism_threads for best performance.\n"
     ]
    }
   ],
   "source": [
    "(x_train, y_train), (x_test, y_test) = mnist.load_data()\n",
    "\n",
    "x_train = x_train.reshape(60000,784)\n",
    "x_test = x_test.reshape(10000,784)\n",
    "x_train= x_train.astype('float32')\n",
    "x_test = x_test.astype('float32')\n",
    "\n",
    "x_train /= 255\n",
    "x_test /= 255\n",
    "\n",
    "\n",
    "# convert labels to One hot\n",
    "y_train = keras.utils.to_categorical(y_train, 10)\n",
    "y_test = keras.utils.to_categorical(y_test, 10) \n",
    "\n",
    "\n",
    "# model set up\n",
    "model = Sequential()\n",
    "model.add(Dense(392, activation='sigmoid',input_shape=(784,)))\n",
    "model.add(Dense(196, activation='sigmoid'))\n",
    "model.add(Dense(10,activation='sigmoid'))\n",
    "model.summary()"
   ]
  },
  {
   "cell_type": "code",
   "execution_count": 4,
   "metadata": {},
   "outputs": [],
   "source": [
    "model.compile(loss='mean_squared_error',optimizer='sgd',metrics=['accuracy'])"
   ]
  },
  {
   "cell_type": "code",
   "execution_count": 5,
   "metadata": {},
   "outputs": [
    {
     "name": "stdout",
     "output_type": "stream",
     "text": [
      "Epoch 1/20\n",
      "60000/60000 [==============================] - 3s 51us/step - loss: 0.1027 - accuracy: 0.1183\n",
      "Epoch 2/20\n",
      "60000/60000 [==============================] - 3s 46us/step - loss: 0.0909 - accuracy: 0.1522\n",
      "Epoch 3/20\n",
      "60000/60000 [==============================] - 3s 49us/step - loss: 0.0900 - accuracy: 0.1608\n",
      "Epoch 4/20\n",
      "60000/60000 [==============================] - 3s 51us/step - loss: 0.0898 - accuracy: 0.1531\n",
      "Epoch 5/20\n",
      "60000/60000 [==============================] - 3s 51us/step - loss: 0.0898 - accuracy: 0.1341\n",
      "Epoch 6/20\n",
      "60000/60000 [==============================] - 3s 53us/step - loss: 0.0897 - accuracy: 0.1289\n",
      "Epoch 7/20\n",
      "60000/60000 [==============================] - 3s 53us/step - loss: 0.0897 - accuracy: 0.1261\n",
      "Epoch 8/20\n",
      "60000/60000 [==============================] - 3s 53us/step - loss: 0.0897 - accuracy: 0.1252\n",
      "Epoch 9/20\n",
      "60000/60000 [==============================] - 3s 55us/step - loss: 0.0897 - accuracy: 0.1273\n",
      "Epoch 10/20\n",
      "60000/60000 [==============================] - 3s 53us/step - loss: 0.0896 - accuracy: 0.1234\n",
      "Epoch 11/20\n",
      "60000/60000 [==============================] - 3s 54us/step - loss: 0.0896 - accuracy: 0.1236\n",
      "Epoch 12/20\n",
      "60000/60000 [==============================] - 3s 54us/step - loss: 0.0896 - accuracy: 0.1238\n",
      "Epoch 13/20\n",
      "60000/60000 [==============================] - 3s 54us/step - loss: 0.0896 - accuracy: 0.1244\n",
      "Epoch 14/20\n",
      "60000/60000 [==============================] - 3s 55us/step - loss: 0.0895 - accuracy: 0.1249\n",
      "Epoch 15/20\n",
      "60000/60000 [==============================] - 3s 57us/step - loss: 0.0895 - accuracy: 0.1279\n",
      "Epoch 16/20\n",
      "60000/60000 [==============================] - 3s 57us/step - loss: 0.0895 - accuracy: 0.1309\n",
      "Epoch 17/20\n",
      "60000/60000 [==============================] - 3s 56us/step - loss: 0.0895 - accuracy: 0.1304\n",
      "Epoch 18/20\n",
      "60000/60000 [==============================] - 3s 57us/step - loss: 0.0894 - accuracy: 0.1309\n",
      "Epoch 19/20\n",
      "60000/60000 [==============================] - 3s 57us/step - loss: 0.0894 - accuracy: 0.1294\n",
      "Epoch 20/20\n",
      "60000/60000 [==============================] - 3s 57us/step - loss: 0.0894 - accuracy: 0.1341\n",
      "10000/10000 [==============================] - 1s 75us/step\n",
      "Test loss: 0.08938270168304444\n",
      "Test accuracy: 0.13449999690055847\n"
     ]
    }
   ],
   "source": [
    "model.fit(x_train,y_train,batch_size=128,epochs = 20)\n",
    "score = model.evaluate(x_test,y_test)\n",
    "print('Test loss:', score[0])\n",
    "print('Test accuracy:', score[1])"
   ]
  },
  {
   "cell_type": "code",
   "execution_count": null,
   "metadata": {},
   "outputs": [],
   "source": []
  }
 ],
 "metadata": {
  "interpreter": {
   "hash": "0bc2dd3acd3a7f26279b1918fd7c0dd2a0fc9ed3e01daae9cf086728da64019e"
  },
  "kernelspec": {
   "display_name": "Python 3.7.11 64-bit ('base': conda)",
   "language": "python",
   "name": "python3"
  },
  "language_info": {
   "codemirror_mode": {
    "name": "ipython",
    "version": 3
   },
   "file_extension": ".py",
   "mimetype": "text/x-python",
   "name": "python",
   "nbconvert_exporter": "python",
   "pygments_lexer": "ipython3",
   "version": "3.7.11"
  },
  "orig_nbformat": 4
 },
 "nbformat": 4,
 "nbformat_minor": 2
}
