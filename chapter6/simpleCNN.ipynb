{
 "cells": [
  {
   "cell_type": "code",
   "execution_count": 1,
   "metadata": {},
   "outputs": [
    {
     "name": "stderr",
     "output_type": "stream",
     "text": [
      "Using TensorFlow backend.\n"
     ]
    },
    {
     "name": "stdout",
     "output_type": "stream",
     "text": [
      "(41439, 1, 9, 9)\n",
      "(41439, 9, 9, 1)\n"
     ]
    }
   ],
   "source": [
    "import numpy as np\n",
    "from keras.models import Sequential\n",
    "from keras.layers import Dense, Conv2D, Flatten, Dropout,MaxPooling2D\n",
    "\n",
    "np.random.seed(123)  # <1>\n",
    "\n",
    "X = np.load('../features-40k.npy')  # <2>\n",
    "Y = np.load('../labels-40k.npy')\n",
    "samples = X.shape[0]\n",
    "size = 9\n",
    "input_shape = (size,size,1)\n",
    "\n",
    "print(X.shape)\n",
    "#\n",
    "X = X.reshape(samples,size,size,1)\n",
    "print(X.shape)\n",
    "train_samples = int(0.9*samples)\n",
    "X_train, X_test = X[:train_samples], X[train_samples:]\n",
    "Y_train, Y_test = Y[:train_samples], Y[train_samples:]\n",
    "\n"
   ]
  },
  {
   "cell_type": "code",
   "execution_count": 2,
   "metadata": {},
   "outputs": [
    {
     "name": "stdout",
     "output_type": "stream",
     "text": [
      "Model: \"sequential_1\"\n",
      "_________________________________________________________________\n",
      "Layer (type)                 Output Shape              Param #   \n",
      "=================================================================\n",
      "conv2d_1 (Conv2D)            (None, 9, 9, 48)          480       \n",
      "_________________________________________________________________\n",
      "dropout_1 (Dropout)          (None, 9, 9, 48)          0         \n",
      "_________________________________________________________________\n",
      "conv2d_2 (Conv2D)            (None, 9, 9, 48)          20784     \n",
      "_________________________________________________________________\n",
      "max_pooling2d_1 (MaxPooling2 (None, 4, 4, 48)          0         \n",
      "_________________________________________________________________\n",
      "dropout_2 (Dropout)          (None, 4, 4, 48)          0         \n",
      "_________________________________________________________________\n",
      "flatten_1 (Flatten)          (None, 768)               0         \n",
      "_________________________________________________________________\n",
      "dense_1 (Dense)              (None, 512)               393728    \n",
      "_________________________________________________________________\n",
      "dropout_3 (Dropout)          (None, 512)               0         \n",
      "_________________________________________________________________\n",
      "dense_2 (Dense)              (None, 81)                41553     \n",
      "=================================================================\n",
      "Total params: 456,545\n",
      "Trainable params: 456,545\n",
      "Non-trainable params: 0\n",
      "_________________________________________________________________\n"
     ]
    },
    {
     "name": "stderr",
     "output_type": "stream",
     "text": [
      "2022-01-25 16:03:16.443718: I tensorflow/core/platform/cpu_feature_guard.cc:145] This TensorFlow binary is optimized with Intel(R) MKL-DNN to use the following CPU instructions in performance critical operations:  SSE4.1 SSE4.2 AVX AVX2 FMA\n",
      "To enable them in non-MKL-DNN operations, rebuild TensorFlow with the appropriate compiler flags.\n",
      "2022-01-25 16:03:16.444277: I tensorflow/core/common_runtime/process_util.cc:115] Creating new thread pool with default inter op setting: 16. Tune using inter_op_parallelism_threads for best performance.\n"
     ]
    }
   ],
   "source": [
    "model = Sequential()\n",
    "model.add(Conv2D(filters=48,\n",
    "                   kernel_size=(3,3),\n",
    "                   activation='relu',\n",
    "                   padding = 'same',\n",
    "                   input_shape=input_shape))\n",
    "model.add(Dropout(rate=0.5))\n",
    "\n",
    "model.add(Conv2D(48,(3,3),padding='same',activation='relu'))\n",
    "model.add(MaxPooling2D(pool_size=(2,2)))\n",
    "model.add(Dropout(rate=0.5))\n",
    "\n",
    "model.add(Flatten())\n",
    "model.add(Dense(512, activation='relu' ))\n",
    "model.add(Dropout(rate=0.5)\n",
    ")\n",
    "model.add(Dense(size*size, activation='softmax'))\n",
    "model.summary() "
   ]
  },
  {
   "cell_type": "code",
   "execution_count": 3,
   "metadata": {},
   "outputs": [],
   "source": [
    "model.compile(loss='categorical_crossentropy',\n",
    "              optimizer='sgd',\n",
    "              metrics=['accuracy'])"
   ]
  },
  {
   "cell_type": "code",
   "execution_count": 4,
   "metadata": {},
   "outputs": [
    {
     "name": "stdout",
     "output_type": "stream",
     "text": [
      "Train on 37295 samples, validate on 4144 samples\n",
      "Epoch 1/10\n",
      "37295/37295 [==============================] - 16s 424us/step - loss: 4.3706 - accuracy: 0.0188 - val_loss: 4.3198 - val_accuracy: 0.0285\n",
      "Epoch 2/10\n",
      "37295/37295 [==============================] - 17s 452us/step - loss: 4.3141 - accuracy: 0.0230 - val_loss: 4.2763 - val_accuracy: 0.0268\n",
      "Epoch 3/10\n",
      "37295/37295 [==============================] - 18s 475us/step - loss: 4.2881 - accuracy: 0.0236 - val_loss: 4.2577 - val_accuracy: 0.0253\n",
      "Epoch 4/10\n",
      "37295/37295 [==============================] - 19s 517us/step - loss: 4.2709 - accuracy: 0.0230 - val_loss: 4.2447 - val_accuracy: 0.0256\n",
      "Epoch 5/10\n",
      "37295/37295 [==============================] - 26s 705us/step - loss: 4.2566 - accuracy: 0.0234 - val_loss: 4.2303 - val_accuracy: 0.0275\n",
      "Epoch 6/10\n",
      "37295/37295 [==============================] - 22s 594us/step - loss: 4.2375 - accuracy: 0.0233 - val_loss: 4.2116 - val_accuracy: 0.0278\n",
      "Epoch 7/10\n",
      "37295/37295 [==============================] - 20s 524us/step - loss: 4.2138 - accuracy: 0.0249 - val_loss: 4.1859 - val_accuracy: 0.0282\n",
      "Epoch 8/10\n",
      "37295/37295 [==============================] - 19s 514us/step - loss: 4.1864 - accuracy: 0.0246 - val_loss: 4.1534 - val_accuracy: 0.0294\n",
      "Epoch 9/10\n",
      "37295/37295 [==============================] - 20s 540us/step - loss: 4.1610 - accuracy: 0.0256 - val_loss: 4.1335 - val_accuracy: 0.0350\n",
      "Epoch 10/10\n",
      "37295/37295 [==============================] - 20s 532us/step - loss: 4.1395 - accuracy: 0.0266 - val_loss: 4.1092 - val_accuracy: 0.0357\n",
      "Test loss: 4.109236065485303\n",
      "Test accuracy: 0.0357142873108387\n"
     ]
    }
   ],
   "source": [
    "model.fit(X_train, Y_train,\n",
    "          batch_size=64,\n",
    "          epochs=10,\n",
    "          verbose=1,\n",
    "          validation_data=(X_test, Y_test))\n",
    "\n",
    "score = model.evaluate(X_test, Y_test, verbose=0)\n",
    "print('Test loss:', score[0])\n",
    "print('Test accuracy:', score[1])"
   ]
  },
  {
   "cell_type": "code",
   "execution_count": 6,
   "metadata": {},
   "outputs": [
    {
     "data": {
      "text/plain": [
       "41439"
      ]
     },
     "execution_count": 6,
     "metadata": {},
     "output_type": "execute_result"
    }
   ],
   "source": [
    "samples"
   ]
  },
  {
   "cell_type": "code",
   "execution_count": 11,
   "metadata": {},
   "outputs": [
    {
     "name": "stdout",
     "output_type": "stream",
     "text": [
      "[3.33333333e-01 3.33333333e-01 6.01617129e-36 1.24002533e-44\n",
      " 3.33333333e-01 5.77713681e-59]\n"
     ]
    }
   ],
   "source": [
    "def softmax(x):\n",
    "    e_x= np.exp(x)\n",
    "    e_x_sum = np.sum(e_x)\n",
    "    return e_x/e_x_sum\n",
    "\n",
    "x= np.array([100,100,20,0,100,-33])\n",
    "print(softmax(x))"
   ]
  },
  {
   "cell_type": "code",
   "execution_count": 5,
   "metadata": {},
   "outputs": [],
   "source": [
    "test_board = np.array([[0,0,0,0,0,0,0,0,0,\n",
    "                       0,0,0,0,0,0,0,0,0,\n",
    "                       0,0,1,-1,1,-1,0,0,0,\n",
    "                       0,0,1,-1,1,-1,0,0,0,\n",
    "                       0,0,0,1,-1,0,0,0,0,\n",
    "                       0,0,0,0,0,0,0,0,0,\n",
    "                       0,0,0,0,0,0,0,0,0,\n",
    "                       0,0,0,0,0,0,0,0,0,\n",
    "                       0,0,0,0,0,0,0,0,0]])"
   ]
  },
  {
   "cell_type": "code",
   "execution_count": 12,
   "metadata": {},
   "outputs": [],
   "source": [
    "test_board = test_board.reshape(1,9,9,1)"
   ]
  },
  {
   "cell_type": "code",
   "execution_count": 13,
   "metadata": {},
   "outputs": [
    {
     "name": "stdout",
     "output_type": "stream",
     "text": [
      "0.001 0.002 0.003 0.003 0.004 0.003 0.002 0.001 0.001\n",
      "0.002 0.007 0.010 0.015 0.018 0.014 0.009 0.005 0.002\n",
      "0.002 0.010 0.004 0.029 0.024 0.029 0.005 0.006 0.002\n",
      "0.003 0.014 0.026 0.043 0.030 0.023 0.014 0.016 0.003\n",
      "0.003 0.018 0.038 0.031 0.038 0.029 0.029 0.015 0.004\n",
      "0.003 0.014 0.029 0.042 0.042 0.025 0.027 0.011 0.003\n",
      "0.002 0.009 0.004 0.029 0.030 0.030 0.004 0.008 0.002\n",
      "0.002 0.006 0.008 0.014 0.017 0.015 0.009 0.005 0.002\n",
      "0.001 0.002 0.002 0.003 0.003 0.003 0.002 0.002 0.001\n"
     ]
    }
   ],
   "source": [
    "move_probs = model.predict(test_board)[0]\n",
    "i=0\n",
    "for row in range(9):\n",
    "    row_formatted = []\n",
    "    for col in range(9):\n",
    "        row_formatted.append('{:.3f}'.format(move_probs[i]))\n",
    "        i += 1\n",
    "    print(' '.join(row_formatted))"
   ]
  },
  {
   "cell_type": "code",
   "execution_count": null,
   "metadata": {},
   "outputs": [],
   "source": []
  }
 ],
 "metadata": {
  "interpreter": {
   "hash": "0bc2dd3acd3a7f26279b1918fd7c0dd2a0fc9ed3e01daae9cf086728da64019e"
  },
  "kernelspec": {
   "display_name": "Python 3.7.11 64-bit ('base': conda)",
   "language": "python",
   "name": "python3"
  },
  "language_info": {
   "codemirror_mode": {
    "name": "ipython",
    "version": 3
   },
   "file_extension": ".py",
   "mimetype": "text/x-python",
   "name": "python",
   "nbconvert_exporter": "python",
   "pygments_lexer": "ipython3",
   "version": "3.7.11"
  },
  "orig_nbformat": 4
 },
 "nbformat": 4,
 "nbformat_minor": 2
}
