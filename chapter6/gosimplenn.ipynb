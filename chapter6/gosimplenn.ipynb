{
 "cells": [
  {
   "cell_type": "code",
   "execution_count": 14,
   "metadata": {},
   "outputs": [
    {
     "name": "stdout",
     "output_type": "stream",
     "text": [
      "Model: \"sequential_3\"\n",
      "_________________________________________________________________\n",
      "Layer (type)                 Output Shape              Param #   \n",
      "=================================================================\n",
      "dense_8 (Dense)              (None, 1000)              82000     \n",
      "_________________________________________________________________\n",
      "dense_9 (Dense)              (None, 500)               500500    \n",
      "_________________________________________________________________\n",
      "dense_10 (Dense)             (None, 81)                40581     \n",
      "=================================================================\n",
      "Total params: 623,081\n",
      "Trainable params: 623,081\n",
      "Non-trainable params: 0\n",
      "_________________________________________________________________\n"
     ]
    }
   ],
   "source": [
    "import numpy as np\n",
    "from keras.models import Sequential\n",
    "from keras.layers import Dense\n",
    "\n",
    "np.random.seed(123)  # <1>\n",
    "\n",
    "X = np.load('../features-40k.npy')  # <2>\n",
    "Y = np.load('../labels-40k.npy')\n",
    "samples = X.shape[0]\n",
    "board_size = 9 * 9\n",
    "\n",
    "# reshape from 9x9 matrices into 81 element vectors\n",
    "X = X.reshape(samples, board_size)  # <3>\n",
    "Y = Y.reshape(samples, board_size)\n",
    "\n",
    "train_samples = int(0.9*samples)\n",
    "X_train, X_test = X[:train_samples], X[train_samples:]\n",
    "Y_train, Y_test = Y[:train_samples], Y[train_samples:]\n",
    " \n",
    "model = Sequential()\n",
    "model.add(Dense(1000, activation='sigmoid', input_shape=(board_size,)))\n",
    "model.add(Dense(500, activation='sigmoid'))\n",
    "#model.add(Dense(200, activation='sigmoid'))\n",
    "model.add(Dense(board_size, activation='sigmoid'))\n",
    "model.summary()"
   ]
  },
  {
   "cell_type": "code",
   "execution_count": 15,
   "metadata": {},
   "outputs": [],
   "source": [
    "model.compile(loss='mean_squared_error',\n",
    "              optimizer='sgd',\n",
    "              metrics=['accuracy'])"
   ]
  },
  {
   "cell_type": "code",
   "execution_count": 16,
   "metadata": {},
   "outputs": [
    {
     "name": "stdout",
     "output_type": "stream",
     "text": [
      "Train on 37295 samples, validate on 4144 samples\n",
      "Epoch 1/20\n",
      "37295/37295 [==============================] - 5s 124us/step - loss: 0.1108 - accuracy: 0.0139 - val_loss: 0.0448 - val_accuracy: 0.0135\n",
      "Epoch 2/20\n",
      "37295/37295 [==============================] - 5s 125us/step - loss: 0.0323 - accuracy: 0.0139 - val_loss: 0.0249 - val_accuracy: 0.0140\n",
      "Epoch 3/20\n",
      "37295/37295 [==============================] - 5s 135us/step - loss: 0.0217 - accuracy: 0.0150 - val_loss: 0.0194 - val_accuracy: 0.0176\n",
      "Epoch 4/20\n",
      "37295/37295 [==============================] - 5s 138us/step - loss: 0.0181 - accuracy: 0.0173 - val_loss: 0.0170 - val_accuracy: 0.0217\n",
      "Epoch 5/20\n",
      "37295/37295 [==============================] - 5s 140us/step - loss: 0.0163 - accuracy: 0.0203 - val_loss: 0.0157 - val_accuracy: 0.0251\n",
      "Epoch 6/20\n",
      "37295/37295 [==============================] - 5s 141us/step - loss: 0.0153 - accuracy: 0.0228 - val_loss: 0.0149 - val_accuracy: 0.0285\n",
      "Epoch 7/20\n",
      "37295/37295 [==============================] - 5s 144us/step - loss: 0.0147 - accuracy: 0.0244 - val_loss: 0.0144 - val_accuracy: 0.0278\n",
      "Epoch 8/20\n",
      "37295/37295 [==============================] - 5s 146us/step - loss: 0.0142 - accuracy: 0.0250 - val_loss: 0.0140 - val_accuracy: 0.0278\n",
      "Epoch 9/20\n",
      "37295/37295 [==============================] - 6s 148us/step - loss: 0.0139 - accuracy: 0.0252 - val_loss: 0.0137 - val_accuracy: 0.0275\n",
      "Epoch 10/20\n",
      "37295/37295 [==============================] - 5s 147us/step - loss: 0.0136 - accuracy: 0.0253 - val_loss: 0.0135 - val_accuracy: 0.0268\n",
      "Epoch 11/20\n",
      "37295/37295 [==============================] - 6s 152us/step - loss: 0.0134 - accuracy: 0.0257 - val_loss: 0.0133 - val_accuracy: 0.0275\n",
      "Epoch 12/20\n",
      "37295/37295 [==============================] - 6s 148us/step - loss: 0.0133 - accuracy: 0.0257 - val_loss: 0.0132 - val_accuracy: 0.0278\n",
      "Epoch 13/20\n",
      "37295/37295 [==============================] - 6s 149us/step - loss: 0.0131 - accuracy: 0.0259 - val_loss: 0.0131 - val_accuracy: 0.0270\n",
      "Epoch 14/20\n",
      "37295/37295 [==============================] - 6s 150us/step - loss: 0.0130 - accuracy: 0.0264 - val_loss: 0.0130 - val_accuracy: 0.0273\n",
      "Epoch 15/20\n",
      "37295/37295 [==============================] - 6s 149us/step - loss: 0.0130 - accuracy: 0.0266 - val_loss: 0.0129 - val_accuracy: 0.0275\n",
      "Epoch 16/20\n",
      "37295/37295 [==============================] - 6s 149us/step - loss: 0.0129 - accuracy: 0.0265 - val_loss: 0.0128 - val_accuracy: 0.0261\n",
      "Epoch 17/20\n",
      "37295/37295 [==============================] - 5s 143us/step - loss: 0.0128 - accuracy: 0.0267 - val_loss: 0.0128 - val_accuracy: 0.0263\n",
      "Epoch 18/20\n",
      "37295/37295 [==============================] - 5s 142us/step - loss: 0.0128 - accuracy: 0.0269 - val_loss: 0.0127 - val_accuracy: 0.0268\n",
      "Epoch 19/20\n",
      "37295/37295 [==============================] - 5s 142us/step - loss: 0.0127 - accuracy: 0.0268 - val_loss: 0.0127 - val_accuracy: 0.0270\n",
      "Epoch 20/20\n",
      "37295/37295 [==============================] - 5s 143us/step - loss: 0.0127 - accuracy: 0.0265 - val_loss: 0.0127 - val_accuracy: 0.0275\n",
      "Test loss: 0.01265167524052863\n",
      "Test accuracy: 0.027509652078151703\n"
     ]
    }
   ],
   "source": [
    "model.fit(X_train, Y_train,\n",
    "          batch_size=64,\n",
    "          epochs=20,\n",
    "          verbose=1,\n",
    "          validation_data=(X_test, Y_test))\n",
    "\n",
    "score = model.evaluate(X_test, Y_test, verbose=0)\n",
    "print('Test loss:', score[0])\n",
    "print('Test accuracy:', score[1])"
   ]
  },
  {
   "cell_type": "code",
   "execution_count": 17,
   "metadata": {},
   "outputs": [
    {
     "data": {
      "text/plain": [
       "41439"
      ]
     },
     "execution_count": 17,
     "metadata": {},
     "output_type": "execute_result"
    }
   ],
   "source": [
    "samples"
   ]
  },
  {
   "cell_type": "code",
   "execution_count": 35,
   "metadata": {},
   "outputs": [],
   "source": [
    "test_board = np.array([[0,0,0,0,0,0,0,0,0,\n",
    "                       0,0,0,0,0,0,0,0,0,\n",
    "                       0,0,1,-1,1,-1,0,0,0,\n",
    "                       0,0,1,-1,1,-1,0,0,0,\n",
    "                       0,0,0,1,-1,0,0,0,0,\n",
    "                       0,0,0,0,0,0,0,0,0,\n",
    "                       0,0,0,0,0,0,0,0,0,\n",
    "                       0,0,0,0,0,0,0,0,0,\n",
    "                       0,0,0,0,0,0,0,0,0]])"
   ]
  },
  {
   "cell_type": "code",
   "execution_count": 36,
   "metadata": {},
   "outputs": [
    {
     "data": {
      "text/plain": [
       "(1, 81)"
      ]
     },
     "execution_count": 36,
     "metadata": {},
     "output_type": "execute_result"
    }
   ],
   "source": [
    "test_board.shape"
   ]
  },
  {
   "cell_type": "code",
   "execution_count": 37,
   "metadata": {},
   "outputs": [
    {
     "name": "stdout",
     "output_type": "stream",
     "text": [
      "0.030 0.031 0.031 0.033 0.033 0.032 0.032 0.032 0.029\n",
      "0.030 0.034 0.034 0.036 0.038 0.036 0.036 0.034 0.032\n",
      "0.032 0.034 0.031 0.037 0.034 0.038 0.032 0.034 0.031\n",
      "0.032 0.036 0.039 0.039 0.036 0.036 0.036 0.035 0.032\n",
      "0.033 0.036 0.039 0.036 0.037 0.037 0.039 0.037 0.034\n",
      "0.033 0.037 0.038 0.040 0.041 0.035 0.039 0.035 0.033\n",
      "0.031 0.035 0.032 0.038 0.039 0.039 0.032 0.034 0.031\n",
      "0.030 0.034 0.036 0.036 0.037 0.035 0.036 0.034 0.031\n",
      "0.030 0.032 0.031 0.033 0.033 0.033 0.031 0.030 0.030\n"
     ]
    }
   ],
   "source": [
    "move_probs = model.predict(test_board)[0]\n",
    "i=0\n",
    "for row in range(9):\n",
    "    row_formatted = []\n",
    "    for col in range(9):\n",
    "        row_formatted.append('{:.3f}'.format(move_probs[i]))\n",
    "        i += 1\n",
    "    print(' '.join(row_formatted))"
   ]
  },
  {
   "cell_type": "code",
   "execution_count": null,
   "metadata": {},
   "outputs": [],
   "source": []
  }
 ],
 "metadata": {
  "interpreter": {
   "hash": "0bc2dd3acd3a7f26279b1918fd7c0dd2a0fc9ed3e01daae9cf086728da64019e"
  },
  "kernelspec": {
   "display_name": "Python 3 (ipykernel)",
   "language": "python",
   "name": "python3"
  },
  "language_info": {
   "codemirror_mode": {
    "name": "ipython",
    "version": 3
   },
   "file_extension": ".py",
   "mimetype": "text/x-python",
   "name": "python",
   "nbconvert_exporter": "python",
   "pygments_lexer": "ipython3",
   "version": "3.7.11"
  }
 },
 "nbformat": 4,
 "nbformat_minor": 4
}
